{
 "cells": [
  {
   "cell_type": "code",
   "execution_count": 45,
   "metadata": {
    "collapsed": true,
    "pycharm": {
     "name": "#%%\n"
    }
   },
   "outputs": [],
   "source": [
    "import numpy as np\n",
    "from sklearn.cluster import KMeans\n",
    "from skimage import io\n",
    "import sys"
   ]
  },
  {
   "cell_type": "code",
   "execution_count": 53,
   "outputs": [
    {
     "name": "stdout",
     "output_type": "stream",
     "text": [
      "50451\n",
      "Original size: 151353\n",
      "144 bytes\n"
     ]
    }
   ],
   "source": [
    "# Load image\n",
    "image = io.imread(\"./input_images/koala.jpeg\")\n",
    "rows, cols = image.shape[0], image.shape[1]\n",
    "\n",
    "# Flatten the image, represent it as 3-arrays of [R, G, B]\n",
    "image = np.array(image.reshape(rows * cols, 3))"
   ],
   "metadata": {
    "collapsed": false,
    "pycharm": {
     "name": "#%%\n"
    }
   }
  },
  {
   "cell_type": "code",
   "execution_count": 54,
   "outputs": [
    {
     "name": "stdout",
     "output_type": "stream",
     "text": [
      "[[117.7136322  113.75480329 105.14547118]\n",
      " [178.23305785 176.30826446 172.84876033]\n",
      " [ 57.61053985  51.70308483  40.79434447]\n",
      " [250.32357043 250.59274756 251.48117155]\n",
      " [136.69277108 157.23975904 111.97831325]\n",
      " [ 93.11087866 115.05020921  69.34205021]\n",
      " [ 33.17784257  25.5335277   16.54081633]\n",
      " [ 97.98212512  94.48460775  83.23038729]\n",
      " [108.94425087  77.45180023  58.73519164]\n",
      " [205.90093708 204.25568942 205.63721553]\n",
      " [113.74488802 137.58227848  90.44498539]\n",
      " [154.19512195 150.94906743 143.91750359]\n",
      " [189.94100295 200.8820059  150.16224189]\n",
      " [ 68.47741935  62.82967742  51.37419355]\n",
      " [135.68965517 131.83579639 124.56239737]\n",
      " [170.36820084 185.44142259 129.62761506]\n",
      " [221.81773399 243.01477833 160.4679803 ]\n",
      " [104.51928504 126.38758231  80.42709313]\n",
      " [187.28746929 195.86977887 172.10810811]\n",
      " [156.58576052 117.33009709 103.66666667]\n",
      " [167.97584973 167.27370304 165.01341682]\n",
      " [ 84.21011673 102.3618677   70.307393  ]\n",
      " [160.3968254  189.20899471 100.8968254 ]\n",
      " [  9.51617251   4.15363881   1.91374663]\n",
      " [226.8488024  226.71706587 231.19461078]\n",
      " [ 68.5025974   38.72207792  21.54155844]\n",
      " [ 77.91685912  73.64318707  63.39953811]\n",
      " [121.77411477  92.24908425  73.30769231]\n",
      " [ 82.44753747 111.90149893  51.79014989]\n",
      " [ 96.53900709  63.88061466  44.45626478]\n",
      " [ 51.55379189  25.07760141   9.50088183]\n",
      " [113.87792969 131.98242188 105.37109375]\n",
      " [143.70445004 141.63224181 136.34760705]\n",
      " [108.83538316 104.54493851  93.78145695]\n",
      " [128.66868932 150.6565534   94.44174757]\n",
      " [135.08797654 129.42815249 102.91348974]\n",
      " [196.34385569 194.24802706 194.23111612]\n",
      " [105.61091549 121.6778169   95.49383803]\n",
      " [141.88132296 167.6614786   91.72178988]\n",
      " [ 83.2094431   51.3874092   32.80992736]\n",
      " [186.70411985 212.60674157 126.40074906]\n",
      " [135.14547677 105.76528117  85.48777506]\n",
      " [ 28.29946524  13.14839572   3.85828877]\n",
      " [ 66.73664825  86.37200737  43.3038674 ]\n",
      " [130.22103387 148.69340463 125.68983957]\n",
      " [237.51052632 249.69473684 198.15263158]\n",
      " [153.2125182  170.76710335 118.24163028]\n",
      " [162.87415541 159.02956081 153.87668919]\n",
      " [103.19402985 133.83830846  62.13930348]\n",
      " [125.2811284  123.29085603 116.41536965]\n",
      " [ 46.49182764  37.60475483  28.07726597]\n",
      " [141.20881226 158.16858238 134.25287356]\n",
      " [ 76.1608154   93.43488109  58.40543601]\n",
      " [186.73214286 184.1039916  184.70273109]\n",
      " [ 88.96904762  84.12857143  73.03690476]\n",
      " [238.5        238.59186747 242.92168675]\n",
      " [207.39015152 217.49242424 181.02651515]\n",
      " [215.95909732 216.14809591 216.81100141]\n",
      " [151.99327354 168.31838565 145.52242152]\n",
      " [152.18035427 143.4605475  122.69082126]\n",
      " [168.34902597 181.00974026 153.49188312]\n",
      " [ 95.0233463  112.04961089  85.39202335]\n",
      " [123.34090909 147.28671329  74.38286713]\n",
      " [122.30685619 143.30602007 112.57692308]]\n"
     ]
    }
   ],
   "source": [
    "km = KMeans(n_clusters=int(input(\"Number of colours (value of k):\")))\n",
    "labels = km.fit_predict(image)\n",
    "centroids = km.cluster_centers_\n",
    "\n",
    "for i in range(len(labels)):\n",
    "    # pixel in image = image[i]\n",
    "    new_colour = centroids[labels[i]]\n",
    "\n",
    "    # Assign one of the k colours to the pixel\n",
    "    image[i] = new_colour"
   ],
   "metadata": {
    "collapsed": false,
    "pycharm": {
     "name": "#%%\n"
    }
   }
  },
  {
   "cell_type": "code",
   "execution_count": 48,
   "outputs": [
    {
     "name": "stdout",
     "output_type": "stream",
     "text": [
      "(251, 201, 3)\n"
     ]
    }
   ],
   "source": [
    "# Unflatten the image back to its original shape, and transform the ith pixel to the ith label.\n",
    "image = image.reshape(rows, cols, 3)\n",
    "print(image.shape)\n",
    "\n",
    "# Save image to output\n",
    "io.imsave(\"./output_images/koala.jpeg\", image)\n",
    "\n",
    "# todo: there are a lot of repeated values in the image array, so use an algorithm like run length encoding to reduce the size!\n",
    "# todo: do the same thing but with a kmeans algorithm from scratch"
   ],
   "metadata": {
    "collapsed": false,
    "pycharm": {
     "name": "#%%\n"
    }
   }
  },
  {
   "cell_type": "code",
   "execution_count": 48,
   "outputs": [],
   "source": [],
   "metadata": {
    "collapsed": false,
    "pycharm": {
     "name": "#%%\n"
    }
   }
  }
 ],
 "metadata": {
  "kernelspec": {
   "display_name": "Python 3",
   "language": "python",
   "name": "python3"
  },
  "language_info": {
   "codemirror_mode": {
    "name": "ipython",
    "version": 2
   },
   "file_extension": ".py",
   "mimetype": "text/x-python",
   "name": "python",
   "nbconvert_exporter": "python",
   "pygments_lexer": "ipython2",
   "version": "2.7.6"
  }
 },
 "nbformat": 4,
 "nbformat_minor": 0
}